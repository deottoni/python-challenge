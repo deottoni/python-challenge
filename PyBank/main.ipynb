{
 "cells": [
  {
   "cell_type": "markdown",
   "metadata": {},
   "source": [
    "* In this challenge, you are tasked with creating a Python script for analyzing the financial records of your company. You will give a set of financial data called [budget_data.csv](PyBank/Resources/budget_data.csv). The dataset is composed of two columns: `Date` and `Profit/Losses`. (Thankfully, your company has rather lax standards for accounting so the records are simple.)\n",
    "\n",
    "* Your task is to create a Python script that analyzes the records to calculate each of the following:\n",
    "\n",
    "  * The total number of months included in the dataset\n",
    "\n",
    "  * The net total amount of \"Profit/Losses\" over the entire period\n",
    "\n",
    "  * The average of the changes in \"Profit/Losses\" over the entire period\n",
    "\n",
    "  * The greatest increase in profits (date and amount) over the entire period\n",
    "\n",
    "  * The greatest decrease in losses (date and amount) over the entire period\n",
    "\n",
    "* As an example, your analysis should look similar to the one below:\n",
    "\n",
    "  ```text\n",
    "  Financial Analysis\n",
    "  ----------------------------\n",
    "  Total Months: 86\n",
    "  Total: $38382578\n",
    "  Average  Change: $-2315.12\n",
    "  Greatest Increase in Profits: Feb-2012 ($1926159)\n",
    "  Greatest Decrease in Profits: Sep-2013 ($-2196167)\n",
    "  ```\n",
    "\n",
    "* In addition, your final script should both print the analysis to the terminal and export a text file with the results.\n"
   ]
  },
  {
   "cell_type": "code",
   "execution_count": 1,
   "metadata": {},
   "outputs": [],
   "source": [
    "#import libraries\n",
    "import csv\n",
    "import os"
   ]
  },
  {
   "cell_type": "code",
   "execution_count": 89,
   "metadata": {},
   "outputs": [
    {
     "name": "stdout",
     "output_type": "stream",
     "text": [
      "Financial Analysis\n",
      "----------------------------\n",
      "Total Months: 86\n",
      "Total: $38382578\n",
      "Average Change: -2315.12\n",
      "Greatest Increase in Profits: Feb-2012 (1926159)\n",
      "Greatest Decrease in Profits: Sep-2013 (-2196167)\n"
     ]
    }
   ],
   "source": [
    "#add csv path\n",
    "csvpath = os.path.join(\"budget_data.csv\")\n",
    "\n",
    "#define variables\n",
    "months = 0\n",
    "total = 0\n",
    "changes = []\n",
    "    \n",
    "\n",
    "#open csv file\n",
    "with open(csvpath,newline=\"\") as csvfile:\n",
    "    csvreader = csv.reader(csvfile,delimiter=\",\")\n",
    "    header = next(csvreader) #removing header\n",
    "    data = list(csvreader)\n",
    "    current_vol = int(data[0][1])\n",
    "\n",
    "    \n",
    "    # loop through each row to get total count\n",
    "    for row in data:\n",
    "        months = len(data)\n",
    "        \n",
    "        # loop through to get total from cells in column [1]\n",
    "        total = sum(int(row[1]) for row in data)\n",
    "\n",
    "        \n",
    "        # loop through to compare changes \n",
    "        next_vol = int(row[1]) \n",
    "        diff = next_vol - current_vol\n",
    "        current_vol = next_vol\n",
    "        \n",
    "        # add changes to list\n",
    "        changes.append(diff)\n",
    "        \n",
    "        # get max\n",
    "        max_change = max(changes)\n",
    "        \n",
    "        #get min\n",
    "        min_change = min(changes)\n",
    "       \n",
    "    #get average from changes\n",
    "    averagediff = round(sum(changes)/(len(changes) - 1),2)\n",
    "    \n",
    "        \n",
    "\n",
    "\n",
    "print(\"Financial Analysis\")\n",
    "print(\"----------------------------\")\n",
    "print(\"Total Months: \" + str(months))\n",
    "print(\"Total: $\" + str(total))\n",
    "print(\"Average Change: \" + str(averagediff))\n",
    "print(\"Greatest Increase in Profits: Feb-2012 (\" + str(max_change) + \")\")\n",
    "print(\"Greatest Decrease in Profits: Sep-2013 (\" + str(min_change) + \")\")"
   ]
  },
  {
   "cell_type": "code",
   "execution_count": 94,
   "metadata": {},
   "outputs": [],
   "source": [
    "# results to output csv\n",
    "\n",
    "title = \"Financial Analysis \\n ----------------------------\"\n",
    "total_months = (\"Total Months: \" + str(months))\n",
    "total_changes = (\"Average Change: \" + str(averagediff))\n",
    "max_change_result = (\"Greatest Increase in Profits: Feb-2012 (\" + str(max_change) + \")\")\n",
    "min_change_result = (\"Greatest Decrease in Profits: Sep-2013 (\" + str(min_change) + \")\")"
   ]
  },
  {
   "cell_type": "code",
   "execution_count": 96,
   "metadata": {},
   "outputs": [],
   "source": [
    "# create txt file with results\n",
    "text_file = open('financial_analysis.txt', 'w')\n",
    "text_file.write(title +\"\\n\"+ total_months+\"\\n\"+total_changes+\"\\n\"+max_change_result+\"\\n\"+min_change_result)\n",
    "text_file.close()"
   ]
  }
 ],
 "metadata": {
  "kernelspec": {
   "display_name": "Python [conda env:PythonData]",
   "language": "python",
   "name": "pythondata"
  },
  "language_info": {
   "codemirror_mode": {
    "name": "ipython",
    "version": 3
   },
   "file_extension": ".py",
   "mimetype": "text/x-python",
   "name": "python",
   "nbconvert_exporter": "python",
   "pygments_lexer": "ipython3",
   "version": "3.7.0"
  }
 },
 "nbformat": 4,
 "nbformat_minor": 2
}
